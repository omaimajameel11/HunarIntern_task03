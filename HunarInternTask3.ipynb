{
  "nbformat": 4,
  "nbformat_minor": 0,
  "metadata": {
    "colab": {
      "provenance": [],
      "authorship_tag": "ABX9TyN8OySUpJ4aT7pABDBkKZuZ",
      "include_colab_link": true
    },
    "kernelspec": {
      "name": "python3",
      "display_name": "Python 3"
    },
    "language_info": {
      "name": "python"
    }
  },
  "cells": [
    {
      "cell_type": "markdown",
      "metadata": {
        "id": "view-in-github",
        "colab_type": "text"
      },
      "source": [
        "<a href=\"https://colab.research.google.com/github/omaimajameel11/HunarIntern_task03/blob/main/HunarInternTask3.ipynb\" target=\"_parent\"><img src=\"https://colab.research.google.com/assets/colab-badge.svg\" alt=\"Open In Colab\"/></a>"
      ]
    },
    {
      "cell_type": "code",
      "execution_count": null,
      "metadata": {
        "colab": {
          "base_uri": "https://localhost:8080/"
        },
        "id": "JlcMGKyMc0Hg",
        "outputId": "4c45fd75-e249-48ff-bc81-0c8aaa07e816"
      },
      "outputs": [
        {
          "output_type": "stream",
          "name": "stdout",
          "text": [
            "Naive Bayes Results:\n",
            "Accuracy: 0.9713004484304932\n",
            "              precision    recall  f1-score   support\n",
            "\n",
            "           0       0.97      1.00      0.98       965\n",
            "           1       1.00      0.79      0.88       150\n",
            "\n",
            "    accuracy                           0.97      1115\n",
            "   macro avg       0.98      0.89      0.93      1115\n",
            "weighted avg       0.97      0.97      0.97      1115\n",
            "\n",
            "\n",
            "SVM Results:\n",
            "Accuracy: 0.9757847533632287\n",
            "              precision    recall  f1-score   support\n",
            "\n",
            "           0       0.98      0.99      0.99       965\n",
            "           1       0.96      0.85      0.90       150\n",
            "\n",
            "    accuracy                           0.98      1115\n",
            "   macro avg       0.97      0.92      0.95      1115\n",
            "weighted avg       0.98      0.98      0.98      1115\n",
            "\n"
          ]
        }
      ],
      "source": [
        "import pandas as pd\n",
        "import numpy as np\n",
        "\n",
        "# For text preprocessing\n",
        "import re\n",
        "import string\n",
        "\n",
        "# ML libraries\n",
        "from sklearn.model_selection import train_test_split\n",
        "from sklearn.feature_extraction.text import TfidfVectorizer\n",
        "from sklearn.naive_bayes import MultinomialNB\n",
        "from sklearn.svm import LinearSVC\n",
        "from sklearn.metrics import accuracy_score, classification_report, confusion_matrix\n",
        "\n",
        "df = pd.read_csv(\"/content/spam (2).csv\", encoding='latin-1')[['v1','v2']]\n",
        "df.columns = ['label', 'message']\n",
        "\n",
        "def clean_text(text):\n",
        "    text = text.lower()                                   # lowercase\n",
        "    text = re.sub(r\"http\\S+|www\\S+|https\\S+\", '', text)   # remove urls\n",
        "    text = text.translate(str.maketrans('', '', string.punctuation))  # remove punctuation\n",
        "    text = re.sub(r'\\d+', '', text)                       # remove numbers\n",
        "    return text\n",
        "\n",
        "df['message'] = df['message'].apply(clean_text)\n",
        "\n",
        "# Encode labels (ham=0, spam=1)\n",
        "df['label'] = df['label'].map({'ham':0, 'spam':1})\n",
        "\n",
        "X_train, X_test, y_train, y_test = train_test_split(df['message'], df['label'], test_size=0.2, random_state=42)\n",
        "\n",
        "\n",
        "vectorizer = TfidfVectorizer(stop_words='english', max_features=5000)\n",
        "X_train_vec = vectorizer.fit_transform(X_train)\n",
        "X_test_vec = vectorizer.transform(X_test)\n",
        "\n",
        "# Naive Bayes\n",
        "nb_model = MultinomialNB()\n",
        "nb_model.fit(X_train_vec, y_train)\n",
        "nb_preds = nb_model.predict(X_test_vec)\n",
        "\n",
        "# SVM\n",
        "svm_model = LinearSVC()\n",
        "svm_model.fit(X_train_vec, y_train)\n",
        "svm_preds = svm_model.predict(X_test_vec)\n",
        "\n",
        "print(\"Naive Bayes Results:\")\n",
        "print(\"Accuracy:\", accuracy_score(y_test, nb_preds))\n",
        "print(classification_report(y_test, nb_preds))\n",
        "\n",
        "print(\"\\nSVM Results:\")\n",
        "print(\"Accuracy:\", accuracy_score(y_test, svm_preds))\n",
        "print(classification_report(y_test, svm_preds))\n"
      ]
    }
  ]
}